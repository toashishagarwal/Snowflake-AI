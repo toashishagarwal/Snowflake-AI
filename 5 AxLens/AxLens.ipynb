{
 "metadata": {
  "kernelspec": {
   "display_name": "Streamlit Notebook",
   "name": "streamlit"
  },
  "lastEditStatus": {
   "notebookId": "cequptsp4wbn5uys4v52",
   "authorId": "2998447895159",
   "authorName": "AAGARWAL",
   "authorEmail": "aagarwal@guidepoint.com",
   "sessionId": "213ea871-cd57-429e-a1b3-72dce56f4047",
   "lastEditTime": 1747304416263
  }
 },
 "nbformat_minor": 5,
 "nbformat": 4,
 "cells": [
  {
   "cell_type": "code",
   "id": "3775908f-ca36-4846-8f38-5adca39217f2",
   "metadata": {
    "language": "sql",
    "name": "cell1"
   },
   "source": "use database research;\nuse schema aagarwal",
   "execution_count": null,
   "outputs": []
  },
  {
   "cell_type": "code",
   "id": "8d50cbf4-0c8d-4950-86cb-114990437ac9",
   "metadata": {
    "language": "sql",
    "name": "cell2"
   },
   "source": "-- Create stage to store the pdfs\ncreate or replace stage mednews ENCRYPTION = (TYPE = 'SNOWFLAKE_SSE') DIRECTORY = ( ENABLE = true );",
   "execution_count": null,
   "outputs": []
  },
  {
   "cell_type": "code",
   "id": "c695373e-ac74-4b62-a1f1-08206cbd5c81",
   "metadata": {
    "language": "sql",
    "name": "cell3"
   },
   "source": "list @research.aagarwal.mednews",
   "execution_count": null,
   "outputs": []
  },
  {
   "cell_type": "code",
   "id": "a042ea18-f34a-4270-87cb-75dd51b738db",
   "metadata": {
    "language": "sql",
    "name": "cell4"
   },
   "outputs": [],
   "source": "-- Parse the pdfs\nCREATE or replace TEMPORARY table RAW_TEXT AS\nSELECT \n    RELATIVE_PATH,\n    SIZE,\n    FILE_URL,\n    build_scoped_file_url(@mednews, relative_path) as scoped_file_url,\n    TO_VARCHAR (\n        SNOWFLAKE.CORTEX.PARSE_DOCUMENT (\n            '@mednews',\n            RELATIVE_PATH,\n            {'mode': 'LAYOUT'} ):content\n        ) AS EXTRACTED_LAYOUT \nFROM \n    DIRECTORY('@mednews');",
   "execution_count": null
  },
  {
   "cell_type": "code",
   "id": "43448478-cd49-40df-b1bf-fbe0a1f0ddfb",
   "metadata": {
    "language": "sql",
    "name": "cell5"
   },
   "outputs": [],
   "source": "select * from RAW_TEXT;",
   "execution_count": null
  },
  {
   "cell_type": "code",
   "id": "b12c50db-8c71-43be-a069-0697b34f23b9",
   "metadata": {
    "language": "sql",
    "name": "cell6"
   },
   "outputs": [],
   "source": "-- Create the table where we are going to store the chunks for each PDF.\ncreate or replace TABLE DOCS_CHUNKS_TABLE ( \n    RELATIVE_PATH VARCHAR(16777216), -- Relative path to the PDF file\n    SIZE NUMBER(38,0), -- Size of the PDF\n    FILE_URL VARCHAR(16777216), -- URL for the PDF\n    SCOPED_FILE_URL VARCHAR(16777216),\n    CHUNK VARCHAR(16777216), -- Piece of text\n    CHUNK_INDEX INTEGER, -- Index for the text\n    CATEGORY VARCHAR(16777216) -- Will hold the document category to enable filtering\n);",
   "execution_count": null
  },
  {
   "cell_type": "code",
   "id": "04ab4ff8-f89e-4505-8bbe-71c69f6ef831",
   "metadata": {
    "language": "sql",
    "name": "cell7"
   },
   "outputs": [],
   "source": "-- insert chunks in the docs_chunks_table\ninsert into docs_chunks_table (relative_path, size, file_url,\n                            scoped_file_url, chunk, chunk_index)\n\n    select relative_path, \n            size,\n            file_url, \n            scoped_file_url,\n            c.value::TEXT as chunk,\n            c.INDEX::INTEGER as chunk_index\n            \n    from \n        raw_text,\n        LATERAL FLATTEN( input => SNOWFLAKE.CORTEX.SPLIT_TEXT_RECURSIVE_CHARACTER (\n              EXTRACTED_LAYOUT,\n              'markdown',\n              1512,\n              256,\n              ['\\n\\n', '\\n', ' ', '']\n           )) c;\n",
   "execution_count": null
  },
  {
   "cell_type": "code",
   "id": "7b709b57-cdd7-41f2-8fed-4dd76ea33489",
   "metadata": {
    "language": "sql",
    "name": "cell8"
   },
   "outputs": [],
   "source": "select * from docs_chunks_table;",
   "execution_count": null
  },
  {
   "cell_type": "code",
   "id": "84aa17cf-838f-4890-afcb-3eb79be2bf34",
   "metadata": {
    "language": "sql",
    "name": "cell9"
   },
   "outputs": [],
   "source": "\ncreate or replace CORTEX SEARCH SERVICE CC_SEARCH_SERVICE_CS\nON chunk\nATTRIBUTES category\nwarehouse = SKYWALKER\nTARGET_LAG = '1 minute'\nas (\n    select chunk,\n        chunk_index,\n        relative_path,\n        file_url,\n        category\n    from docs_chunks_table\n);",
   "execution_count": null
  }
 ]
}
