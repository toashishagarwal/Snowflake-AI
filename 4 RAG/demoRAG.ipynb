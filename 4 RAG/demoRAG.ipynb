{
 "metadata": {
  "kernelspec": {
   "display_name": "Streamlit Notebook",
   "name": "streamlit"
  },
  "lastEditStatus": {
   "notebookId": "uqrmogjdqpf5xwnisxtx",
   "authorId": "2998447895159",
   "authorName": "AAGARWAL",
   "authorEmail": "aagarwal@guidepoint.com",
   "sessionId": "43924c89-9a31-48f4-a359-e6b35adc0c8c",
   "lastEditTime": 1746437257874
  }
 },
 "nbformat_minor": 5,
 "nbformat": 4,
 "cells": [
  {
   "cell_type": "code",
   "id": "a50871a2-b273-4c78-8892-54b9650e99f6",
   "metadata": {
    "language": "sql",
    "name": "cell1"
   },
   "outputs": [],
   "source": "use database research;\nuse schema aagarwal;",
   "execution_count": null
  },
  {
   "cell_type": "code",
   "id": "72d971da-40cb-4fb6-ba16-1fc60921c9bf",
   "metadata": {
    "language": "sql",
    "name": "cell2"
   },
   "outputs": [],
   "source": "-- Create a table for our documents\nCREATE OR REPLACE TABLE product_documents (\n    product_id NUMBER,\n    product_name VARCHAR,\n    category VARCHAR,\n    description VARCHAR,\n    price NUMBER(10,2),\n    created_date DATE\n);",
   "execution_count": null
  },
  {
   "cell_type": "code",
   "id": "d21c1dce-9f61-445d-8fc5-dd5b89854a27",
   "metadata": {
    "language": "sql",
    "name": "cell3"
   },
   "outputs": [],
   "source": "INSERT INTO product_documents (product_id, product_name, category, description, price, created_date)\nVALUES\n    (1, 'Ultra Comfort Office Chair', 'Furniture', 'Ergonomic office chair with lumbar support and adjustable height. Features breathable mesh back and padded armrests for all-day comfort during long work sessions.', 299.99, '2023-01-15'),\n    (2, 'Professional Laptop Stand', 'Accessories', 'Aluminum laptop stand with adjustable height and angle settings. Improves posture and prevents neck strain. Compatible with laptops up to 17 inches.', 79.99, '2023-02-20'),\n    (3, 'Smart LED Desk Lamp', 'Lighting', 'Dimmable LED desk lamp with 5 color modes and 7 brightness levels. Features USB charging port and touch controls. Energy-efficient with auto-off timer.', 49.99, '2023-03-10'),\n    (4, 'Wireless Noise-Cancelling Headphones', 'Electronics', 'Over-ear headphones with active noise cancellation. 30-hour battery life, Bluetooth 5.0 connectivity, and built-in microphone for calls. Includes carrying case and audio cable.', 199.99, '2023-04-05'),\n    (5, 'Adjustable Standing Desk', 'Furniture', 'Electric standing desk with memory presets for height adjustments. Smooth and quiet motor operation. Spacious surface that supports up to 200 pounds.', 449.99, '2023-05-12'),\n    (6, 'Mechanical Keyboard', 'Electronics', 'RGB backlit mechanical keyboard with customizable key switches. Features programmable macros, anti-ghosting, and durable aluminum frame. Ergonomic design for comfortable typing.', 129.99, '2023-06-18'),\n    (7, 'Ultrawide Curved Monitor', 'Electronics', '34-inch ultrawide curved monitor with 3440x1440 resolution. Features HDR support, 144Hz refresh rate, and adaptive sync technology for smooth visuals. Built-in speakers and multiple connectivity options.', 599.99, '2023-07-25'),\n    (8, 'Ergonomic Mouse', 'Accessories', 'Vertical ergonomic mouse designed to reduce wrist strain. Adjustable DPI settings, programmable buttons, and long-lasting battery. Compatible with Windows and macOS.', 59.99, '2023-08-30'),\n    (9, 'Cable Management System', 'Accessories', 'Complete desk cable management kit including clips, sleeves, and ties. Keeps workspace organized and prevents cable tangling. Easy installation with adhesive backing.', 24.99, '2023-09-14'),\n    (10, 'Air Purifier', 'Appliances', 'HEPA air purifier for office spaces up to 500 square feet. Removes 99.97% of allergens, dust, and odors. Features quiet operation, auto mode, and filter replacement indicator.', 169.99, '2023-10-05');",
   "execution_count": null
  },
  {
   "cell_type": "code",
   "id": "5e826c36-8136-4d1f-b4f2-dd742fda2e04",
   "metadata": {
    "language": "sql",
    "name": "cell4"
   },
   "outputs": [],
   "source": "-- Create a table to store the embeddings\nCREATE OR REPLACE TABLE product_embeddings (\n    product_id number,\n    description_embedding vector(Float, 768)\n)",
   "execution_count": null
  },
  {
   "cell_type": "code",
   "id": "d9ac0372-6b36-4d5c-8a7d-aab912369a3f",
   "metadata": {
    "language": "sql",
    "name": "cell5"
   },
   "outputs": [],
   "source": "-- Generate embeddings using FLATTEN for each product description\nINSERT INTO product_embeddings (product_id, description_embedding)\nSELECT \n    product_id,\n    SNOWFLAKE.CORTEX.EMBED_TEXT_768('snowflake-arctic-embed-m-v1.5', description)\nFROM \n    product_documents;\n\nTable product_embeddings;",
   "execution_count": null
  },
  {
   "cell_type": "code",
   "id": "193b8d6c-3361-45c2-bf37-9ed3c0d0e4f3",
   "metadata": {
    "language": "python",
    "name": "cell6"
   },
   "outputs": [],
   "source": "# Import necessary libraries\nfrom snowflake.snowpark.functions import col, lit\nimport pandas as pd\n\n# We can also use Snowpark for our analyses!\nfrom snowflake.snowpark.context import get_active_session\nsession = get_active_session()\n\ndef retrieve_relevant_documents(query_text, top_k=3):\n    \"\"\"\n    Retrieve the most relevant documents based on vector similarity.\n    \n    Args:\n        query_text: The user's query text\n        top_k: Number of results to return\n        \n    Returns:\n        DataFrame of relevant documents with similarity scores\n    \"\"\"\n    \n    # Generate embedding for the query  \n    query_result = session.sql( \"\"\"\n            SELECT SNOWFLAKE.CORTEX.EMBED_TEXT_768('snowflake-arctic-embed-m-v1.5', ?) AS query_embedding\n            \"\"\",\n            [query_text]\n    )\n\n    rows = query_result.collect()\n    query_embedding = rows[0][\"QUERY_EMBEDDING\"]\n    \n    # Find the most relevant documents using vector similarity\n    results = session.sql(f\"\"\"\n        SELECT \n            p.product_id,\n            p.product_name,\n            p.category,\n            p.description,\n            p.price,\n            VECTOR_COSINE_SIMILARITY(e.description_embedding, {query_embedding}::VECTOR(FLOAT, 768)) as similarity\n        FROM \n            product_documents p\n        JOIN \n            product_embeddings e ON p.product_id = e.product_id\n        ORDER BY \n            similarity DESC\n        LIMIT {top_k}\n    \"\"\").to_pandas()\n\n    return results\n\n# Test the retrieval function\ntest_query = \"What products help with back pain?\"\nrelevant_docs = retrieve_relevant_documents(test_query)\nprint(f\"Query: {test_query}\\n\")\nprint(\"Top relevant products:\")\nfor idx, row in relevant_docs.iterrows():\n    print(f\"{idx+1}. {row['PRODUCT_NAME']} (Similarity: {row['SIMILARITY']:.4f})\")\n    print(f\"   Category: {row['CATEGORY']}\")\n    print(f\"   Price: ${row['PRICE']}\")\n    print(f\"   Description: {row['DESCRIPTION'][:100]}...\\n\")",
   "execution_count": null
  },
  {
   "cell_type": "code",
   "id": "62425677-c456-476f-8379-6cb58685d15c",
   "metadata": {
    "language": "python",
    "name": "cell7"
   },
   "outputs": [],
   "source": "def rag_product_assistant(query_text):\n    \"\"\"\n    RAG-based product assistant that answers user queries.\n    \n    Args:\n        query_text: The user's query\n        \n    Returns:\n        Generated response based on retrieved context\n    \"\"\"\n    # Retrieve relevant documents\n    relevant_docs = retrieve_relevant_documents(query_text)\n    \n    # Create context from retrieved documents\n    context = \"Based on the following product information:\\n\\n\"\n    \n    for idx, doc in relevant_docs.iterrows():\n        context += f\"Product {idx+1}: {doc['PRODUCT_NAME']}\\n\"\n        context += f\"Category: {doc['CATEGORY']}\\n\"\n        context += f\"Price: ${doc['PRICE']}\\n\"\n        context += f\"Description: {doc['DESCRIPTION']}\\n\\n\"\n    \n    # Create prompt for the LLM\n    prompt = f\"\"\"{context}\n    \n        User question: {query_text}\n        \n        Please provide a helpful answer based on the product information above. If you cannot answer the question based on the provided information, please state that clearly.\n        \"\"\"\n    \n    # Generate response using Snowflake's LLM integration\n    response_result = session.sql(\n            \"\"\"\n            SELECT SNOWFLAKE.CORTEX.COMPLETE(?, ?) AS response\n            \"\"\",\n            ['llama2-70b-chat',prompt]\n    ).collect()\n    \n    response = response_result[0]['RESPONSE']\n    return response, relevant_docs\n\n# You can test the full RAG system with a sample query\nsample_query = \"What products would you recommend for better ergonomics?\"\nresponse, docs = rag_product_assistant(sample_query)\n\nprint(f\"Query: {sample_query}\\n\")\nprint(\"Generated Response:\")\nprint(response)\nprint(\"\\nBased on these products:\")\nfor idx, doc in docs.iterrows():\n    print(f\"{idx+1}. {doc['PRODUCT_NAME']} (Similarity: {doc['SIMILARITY']:.4f})\")",
   "execution_count": null
  },
  {
   "cell_type": "code",
   "id": "bfe1432c-5d97-4a1c-98a0-3743f81fac94",
   "metadata": {
    "language": "python",
    "name": "cell8"
   },
   "outputs": [],
   "source": "# Define test queries\ntest_queries = [\n    \"What products would you recommend for better ergonomics?\",\n    \"Tell me about standing desk options\",\n    \"What's good for reducing neck strain?\",\n    \"Compare the noise-cancelling headphones with other electronics\",\n    \"What's the most affordable product for cable management?\",\n    \"What smartphone options do you have?\"  # This is outside our knowledge base\n]\n\n# Test each query\nfor query in test_queries:\n    print(f\"\\n\\n{'='*80}\\nQUERY: {query}\\n{'='*80}\")\n    \n    response, docs = rag_product_assistant(query)\n    \n    print(\"\\nRESPONSE:\")\n    print(response)\n    \n    print(\"\\nRETRIEVED PRODUCTS:\")\n    for idx, doc in docs.iterrows():\n        print(f\"{idx+1}. {doc['PRODUCT_NAME']} (Similarity: {doc['SIMILARITY']:.4f})\")",
   "execution_count": null
  }
 ]
}
