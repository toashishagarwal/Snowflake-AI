{
 "metadata": {
  "kernelspec": {
   "display_name": "Streamlit Notebook",
   "name": "streamlit"
  },
  "lastEditStatus": {
   "notebookId": "j7avp3cplehsdm2jkd3h",
   "authorId": "2998447895159",
   "authorName": "AAGARWAL",
   "authorEmail": "aagarwal@guidepoint.com",
   "sessionId": "121813e5-39b0-4f10-91ec-40374a31c44d",
   "lastEditTime": 1742963809914
  }
 },
 "nbformat_minor": 5,
 "nbformat": 4,
 "cells": [
  {
   "cell_type": "code",
   "id": "3775908f-ca36-4846-8f38-5adca39217f2",
   "metadata": {
    "language": "python",
    "name": "cell1",
    "collapsed": false
   },
   "source": "# Import python packages\nimport streamlit as st\nimport altair as alt\nimport snowflake.snowpark.functions as F\n\n# We can also use Snowpark for our analyses!\nfrom snowflake.snowpark.context import get_active_session\nsession = get_active_session()\n",
   "execution_count": null,
   "outputs": []
  },
  {
   "cell_type": "code",
   "id": "d7cb8bc9-51c3-402a-b020-3706cbc93cba",
   "metadata": {
    "language": "python",
    "name": "cell4",
    "collapsed": false
   },
   "outputs": [],
   "source": "df_support_tickets = session.table('support_tickets')\ndf_support_tickets",
   "execution_count": null
  },
  {
   "cell_type": "code",
   "id": "14a81000-189b-49a4-8861-9038aecd0f25",
   "metadata": {
    "language": "python",
    "name": "cell5",
    "collapsed": false
   },
   "outputs": [],
   "source": "prompt = \"\"\" You are an agent that helps organize the requests that come to your support team\n\nThe request category is the reason why the customer reached out. These are the possible types of request categories\n\nSlow performance\nProduct Info\nAccount Management\nBilling\nTechnical Support\n\nTry doing it for this request & return only the request category\n\n\"\"\"",
   "execution_count": null
  },
  {
   "cell_type": "markdown",
   "id": "1c3ea553-552c-40a8-859a-14b73034bc39",
   "metadata": {
    "name": "cell6",
    "collapsed": false
   },
   "source": "Use MISTRAL LARGE model"
  },
  {
   "cell_type": "code",
   "id": "96810cf7-5f66-4c87-979f-bf7a4f8d247f",
   "metadata": {
    "language": "python",
    "name": "cell7",
    "collapsed": false
   },
   "outputs": [],
   "source": "mistral_large_response_sql= f\"\"\" \n        select ticketid, request, trim(snowflake.cortex.complete('mistral-large', concat('{prompt}', request)), '\\n') as mistral_large_response\n        from support_tickets\n\"\"\"\n\ndf_mistral_large_response = session.sql(mistral_large_response_sql)\ndf_mistral_large_response",
   "execution_count": null
  },
  {
   "cell_type": "markdown",
   "id": "97790280-95ca-4dc3-b9ff-f4bfc9647cd8",
   "metadata": {
    "name": "cell3",
    "collapsed": false
   },
   "source": "Use a smaller model like MISTRAL-7B to check how are the results bcoz the MISTRAL-LARGE model if run on production on millions of records can be costly"
  },
  {
   "cell_type": "code",
   "id": "8d50cbf4-0c8d-4950-86cb-114990437ac9",
   "metadata": {
    "language": "python",
    "name": "cell2",
    "collapsed": false
   },
   "source": "mistral_7b_response_sql= f\"\"\" \n        select ticketid, request, trim(snowflake.cortex.complete('mistral-7b', concat('{prompt}', request)), '\\n') as mistral_7b_response\n        from support_tickets\n\"\"\"\n\ndf_mistral_7b_response = session.sql(mistral_7b_response_sql)\ndf_mistral_7b_response",
   "execution_count": null,
   "outputs": []
  },
  {
   "cell_type": "markdown",
   "id": "bbaffee3-7ee0-4387-98d2-f3ebf2d77993",
   "metadata": {
    "name": "cell10",
    "collapsed": false
   },
   "source": "Now lets compare the results of both the models side-by-side"
  },
  {
   "cell_type": "code",
   "id": "363a3a2c-ed39-465f-a441-1bcfb44f0064",
   "metadata": {
    "language": "python",
    "name": "cell9",
    "collapsed": false
   },
   "outputs": [],
   "source": "df_llms = df_mistral_large_response.join(df_mistral_7b_response, 'ticketid')\ndf_llms",
   "execution_count": null
  },
  {
   "cell_type": "markdown",
   "id": "d3606352-2675-4dfd-b761-2b636cb3b1af",
   "metadata": {
    "name": "cell8",
    "collapsed": false
   },
   "source": "As you can see from above result, the 7B model (i.e. the smaller one) is not producing good results when compared to the mistral-large model.\\\nSo we will now FINE_TUNE the 7B model such that it can produce results as good as mistral-large model"
  },
  {
   "cell_type": "markdown",
   "id": "2b36faa8-5c18-469c-bb21-c9d487487af6",
   "metadata": {
    "name": "cell12",
    "collapsed": false
   },
   "source": "Generate dataset to fine-tune the Mistral-7B"
  },
  {
   "cell_type": "code",
   "id": "08ca1da1-3330-459b-ad97-3dbcf502f042",
   "metadata": {
    "language": "python",
    "name": "cell11",
    "collapsed": false
   },
   "outputs": [],
   "source": "df_fine_tune = df_mistral_large_response.with_column(\"prompt\", F.concat(F.lit(prompt),F.lit(\" \"),F.col(\"request\"))).select(\"ticketid\",\"prompt\",\"mistral_large_response\")\ndf_fine_tune.write.mode('overwrite').save_as_table('support_tickets_finetune')",
   "execution_count": null
  },
  {
   "cell_type": "markdown",
   "id": "f3dff1ac-d2de-4a82-afbb-c20113f844c8",
   "metadata": {
    "name": "cell13",
    "collapsed": false
   },
   "source": "Finetune Mistral-7b\\\nSplit the data into training set & test set using split function"
  },
  {
   "cell_type": "code",
   "id": "66885660-ee36-48e2-9601-f97a09d4ae51",
   "metadata": {
    "language": "python",
    "name": "cell14"
   },
   "outputs": [],
   "source": "train_df, eval_df = session.table(\"support_tickets_finetune\").random_split(weights=[0.8, 0.2], seed=42)\ntrain_df.write.mode('overwrite').save_as_table('support_tickets_train')\neval_df.write.mode('overwrite').save_as_table('support_tickets_eval')",
   "execution_count": null
  },
  {
   "cell_type": "markdown",
   "id": "0d5ef994-8bf1-4165-8fc8-2b144037085b",
   "metadata": {
    "name": "cell15",
    "collapsed": false
   },
   "source": "We fine tune the Mistral-7B model through the AI option on the left nav\\\nNow we use that model"
  },
  {
   "cell_type": "code",
   "id": "088def7e-188a-415a-86cb-19baf0e8299f",
   "metadata": {
    "language": "sql",
    "name": "cell17"
   },
   "outputs": [],
   "source": "\nSELECT SNOWFLAKE.CORTEX.FINETUNE(\n  'DESCRIBE',\n  'ft_20e3f454-16fa-45ab-84ce-08797c1babd2'\n)",
   "execution_count": null
  },
  {
   "cell_type": "code",
   "id": "fe594604-93ba-43de-bcb6-421c300b9081",
   "metadata": {
    "language": "sql",
    "name": "cell18"
   },
   "outputs": [],
   "source": "show grants to user AAGARWAL;\n\nuse secondary role ALL;",
   "execution_count": null
  },
  {
   "cell_type": "code",
   "id": "6fa782bc-3bd9-42a0-8ef0-fbfd9b2d9c27",
   "metadata": {
    "language": "python",
    "name": "cell16"
   },
   "outputs": [],
   "source": "\nfine_tuned_model_name = 'RESEARCH.AAGARWAL.ashish_model_finetuned_mistral7b'\nsql = f\"\"\"select ticketid, request,\ntrim(snowflake.cortex.complete('{fine_tuned_model_name}',concat('{prompt}',request)),'\\n') as fine_tuned_mistral_7b_model_response\nfrom support_tickets\"\"\"\n\ndf_fine_tuned_mistral_7b_response = session.sql(sql)\ndf_fine_tuned_mistral_7b_response\n",
   "execution_count": null
  },
  {
   "cell_type": "code",
   "id": "0b29871b-e97e-4d5d-8ce9-76cbc95ea54c",
   "metadata": {
    "language": "python",
    "name": "cell19"
   },
   "outputs": [],
   "source": "fine_tuned_model_name_5epoch = 'RESEARCH.AAGARWAL.ashish_model_finetuned_mistral7b_5epoch'\nsql = f\"\"\"select ticketid, request,\ntrim(snowflake.cortex.complete('{fine_tuned_model_name_5epoch}',concat('{prompt}',request)),'\\n') as fine_tuned_mistral_7b_model_response_5epoch\nfrom support_tickets\"\"\"\n\ndf_fine_tuned_mistral_7b_model_response_5epoch = session.sql(sql)\ndf_fine_tuned_mistral_7b_model_response_5epoch",
   "execution_count": null
  }
 ]
}
